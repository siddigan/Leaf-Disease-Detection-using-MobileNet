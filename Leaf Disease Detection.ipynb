{
 "cells": [
  {
   "cell_type": "code",
   "execution_count": 1,
   "metadata": {},
   "outputs": [],
   "source": [
    "import tensorflow as tf\n",
    "from tensorflow import keras\n",
    "import matplotlib.pyplot as plt\n",
    "import numpy as np\n",
    "import os"
   ]
  },
  {
   "cell_type": "code",
   "execution_count": 3,
   "metadata": {},
   "outputs": [],
   "source": [
    "base_dir = \"/Users/Jeevaa Natarajan A/Desktop/New Plant Diseases Dataset(Augmented)/New Plant Diseases Dataset(Augmented)\"\n",
    "image_size = 224"
   ]
  },
  {
   "cell_type": "code",
   "execution_count": 4,
   "metadata": {},
   "outputs": [
    {
     "name": "stdout",
     "output_type": "stream",
     "text": [
      "Found 70295 images belonging to 38 classes.\n"
     ]
    }
   ],
   "source": [
    "train_datagen = keras.preprocessing.image.ImageDataGenerator(rescale = 1/255.0,\n",
    "                                                            shear_range = 0.2,\n",
    "                                                            zoom_range = 0.2,\n",
    "                                                            width_shift_range = 0.2,\n",
    "                                                            height_shift_range = 0.2,\n",
    "                                                            fill_mode=\"nearest\")\n",
    "batch_size = 32\n",
    "train_data = train_datagen.flow_from_directory(os.path.join(base_dir,\"train\"),\n",
    "                                               target_size=(image_size,image_size),\n",
    "                                               batch_size=batch_size,\n",
    "                                               class_mode=\"categorical\"                                               \n",
    "                                              )"
   ]
  },
  {
   "cell_type": "code",
   "execution_count": 5,
   "metadata": {},
   "outputs": [
    {
     "name": "stdout",
     "output_type": "stream",
     "text": [
      "Found 17572 images belonging to 38 classes.\n"
     ]
    }
   ],
   "source": [
    "test_datagen = keras.preprocessing.image.ImageDataGenerator(rescale = 1/255.0)\n",
    "test_data = test_datagen.flow_from_directory(os.path.join(base_dir,\"valid\"),\n",
    "                                               target_size=(image_size,image_size),\n",
    "                                               batch_size=batch_size,\n",
    "                                               class_mode=\"categorical\"                                               \n",
    "                                              )"
   ]
  },
  {
   "cell_type": "code",
   "execution_count": 6,
   "metadata": {},
   "outputs": [
    {
     "name": "stdout",
     "output_type": "stream",
     "text": [
      "['Apple___Apple_scab', 'Apple___Black_rot', 'Apple___Cedar_apple_rust', 'Apple___healthy', 'Blueberry___healthy', 'Cherry_(including_sour)___Powdery_mildew', 'Cherry_(including_sour)___healthy', 'Corn_(maize)___Cercospora_leaf_spot Gray_leaf_spot', 'Corn_(maize)___Common_rust_', 'Corn_(maize)___Northern_Leaf_Blight', 'Corn_(maize)___healthy', 'Grape___Black_rot', 'Grape___Esca_(Black_Measles)', 'Grape___Leaf_blight_(Isariopsis_Leaf_Spot)', 'Grape___healthy', 'Orange___Haunglongbing_(Citrus_greening)', 'Peach___Bacterial_spot', 'Peach___healthy', 'Pepper,_bell___Bacterial_spot', 'Pepper,_bell___healthy', 'Potato___Early_blight', 'Potato___Late_blight', 'Potato___healthy', 'Raspberry___healthy', 'Soybean___healthy', 'Squash___Powdery_mildew', 'Strawberry___Leaf_scorch', 'Strawberry___healthy', 'Tomato___Bacterial_spot', 'Tomato___Early_blight', 'Tomato___Late_blight', 'Tomato___Leaf_Mold', 'Tomato___Septoria_leaf_spot', 'Tomato___Spider_mites Two-spotted_spider_mite', 'Tomato___Target_Spot', 'Tomato___Tomato_Yellow_Leaf_Curl_Virus', 'Tomato___Tomato_mosaic_virus', 'Tomato___healthy']\n"
     ]
    }
   ],
   "source": [
    "categories = list(train_data.class_indices.keys())\n",
    "print(categories)"
   ]
  },
  {
   "cell_type": "code",
   "execution_count": 7,
   "metadata": {},
   "outputs": [
    {
     "data": {
      "text/plain": [
       "(224, 224, 3)"
      ]
     },
     "execution_count": 7,
     "metadata": {},
     "output_type": "execute_result"
    }
   ],
   "source": [
    "train_data.image_shape"
   ]
  },
  {
   "cell_type": "code",
   "execution_count": 8,
   "metadata": {},
   "outputs": [
    {
     "name": "stdout",
     "output_type": "stream",
     "text": [
      "Downloading data from https://storage.googleapis.com/tensorflow/keras-applications/mobilenet/mobilenet_1_0_224_tf_no_top.h5\n",
      "17227776/17225924 [==============================] - 3s 0us/step\n",
      "17235968/17225924 [==============================] - 3s 0us/step\n"
     ]
    }
   ],
   "source": [
    "base_model = keras.applications.MobileNet(weights=\"imagenet\",include_top=False,input_shape=(image_size,image_size,3))"
   ]
  },
  {
   "cell_type": "code",
   "execution_count": 9,
   "metadata": {},
   "outputs": [],
   "source": [
    "base_model.trainable = False\n",
    "inputs = keras.Input(shape=(image_size,image_size,3))\n",
    "x = base_model(inputs,training=False)\n",
    "x = keras.layers.GlobalAveragePooling2D()(x)\n",
    "x = keras.layers.Dropout(0.2)(x)\n",
    "x = keras.layers.Dense(len(categories),activation=\"softmax\")(x)\n",
    "model = keras.Model(inputs=inputs, outputs=x, name=\"LeafDisease_MobileNet\")"
   ]
  },
  {
   "cell_type": "code",
   "execution_count": 10,
   "metadata": {},
   "outputs": [
    {
     "name": "stdout",
     "output_type": "stream",
     "text": [
      "Model: \"LeafDisease_MobileNet\"\n",
      "_________________________________________________________________\n",
      " Layer (type)                Output Shape              Param #   \n",
      "=================================================================\n",
      " input_2 (InputLayer)        [(None, 224, 224, 3)]     0         \n",
      "                                                                 \n",
      " mobilenet_1.00_224 (Functio  (None, 7, 7, 1024)       3228864   \n",
      " nal)                                                            \n",
      "                                                                 \n",
      " global_average_pooling2d (G  (None, 1024)             0         \n",
      " lobalAveragePooling2D)                                          \n",
      "                                                                 \n",
      " dropout (Dropout)           (None, 1024)              0         \n",
      "                                                                 \n",
      " dense (Dense)               (None, 38)                38950     \n",
      "                                                                 \n",
      "=================================================================\n",
      "Total params: 3,267,814\n",
      "Trainable params: 38,950\n",
      "Non-trainable params: 3,228,864\n",
      "_________________________________________________________________\n"
     ]
    }
   ],
   "source": [
    "model.summary()"
   ]
  },
  {
   "cell_type": "code",
   "execution_count": 11,
   "metadata": {},
   "outputs": [],
   "source": [
    "optimizer = keras.optimizers.Adam()\n",
    "model.compile(optimizer=optimizer,loss=keras.losses.CategoricalCrossentropy(from_logits=True),metrics=[keras.metrics.CategoricalAccuracy()])"
   ]
  },
  {
   "cell_type": "code",
   "execution_count": 12,
   "metadata": {},
   "outputs": [
    {
     "name": "stderr",
     "output_type": "stream",
     "text": [
      "<ipython-input-12-b9714cab3ec1>:1: UserWarning: `Model.fit_generator` is deprecated and will be removed in a future version. Please use `Model.fit`, which supports generators.\n",
      "  history = model.fit_generator(train_data,\n"
     ]
    },
    {
     "name": "stdout",
     "output_type": "stream",
     "text": [
      "Epoch 1/25\n"
     ]
    },
    {
     "name": "stderr",
     "output_type": "stream",
     "text": [
      "C:\\Users\\Jeevaa Natarajan A\\anaconda3\\lib\\site-packages\\tensorflow\\python\\util\\dispatch.py:1096: UserWarning: \"`categorical_crossentropy` received `from_logits=True`, but the `output` argument was produced by a sigmoid or softmax activation and thus does not represent logits. Was this intended?\"\n",
      "  return dispatch_target(*args, **kwargs)\n"
     ]
    },
    {
     "name": "stdout",
     "output_type": "stream",
     "text": [
      "150/150 [==============================] - 185s 1s/step - loss: 2.0138 - categorical_accuracy: 0.4679 - val_loss: 0.8258 - val_categorical_accuracy: 0.8019\n",
      "Epoch 2/25\n",
      "150/150 [==============================] - 179s 1s/step - loss: 0.7932 - categorical_accuracy: 0.7794 - val_loss: 0.5156 - val_categorical_accuracy: 0.8534\n",
      "Epoch 3/25\n",
      "150/150 [==============================] - 178s 1s/step - loss: 0.5566 - categorical_accuracy: 0.8396 - val_loss: 0.3870 - val_categorical_accuracy: 0.8909\n",
      "Epoch 4/25\n",
      "150/150 [==============================] - 179s 1s/step - loss: 0.4616 - categorical_accuracy: 0.8675 - val_loss: 0.3266 - val_categorical_accuracy: 0.9038\n",
      "Epoch 5/25\n",
      "150/150 [==============================] - 181s 1s/step - loss: 0.3988 - categorical_accuracy: 0.8829 - val_loss: 0.3057 - val_categorical_accuracy: 0.9072\n",
      "Epoch 6/25\n",
      "150/150 [==============================] - 181s 1s/step - loss: 0.3745 - categorical_accuracy: 0.8833 - val_loss: 0.2904 - val_categorical_accuracy: 0.9125\n",
      "Epoch 7/25\n",
      "150/150 [==============================] - 183s 1s/step - loss: 0.3486 - categorical_accuracy: 0.8913 - val_loss: 0.2445 - val_categorical_accuracy: 0.9272\n",
      "Epoch 8/25\n",
      "150/150 [==============================] - 180s 1s/step - loss: 0.3256 - categorical_accuracy: 0.8996 - val_loss: 0.2270 - val_categorical_accuracy: 0.9316\n",
      "Epoch 9/25\n",
      "150/150 [==============================] - 179s 1s/step - loss: 0.3211 - categorical_accuracy: 0.9008 - val_loss: 0.2544 - val_categorical_accuracy: 0.9197\n",
      "Epoch 10/25\n",
      "150/150 [==============================] - 179s 1s/step - loss: 0.2670 - categorical_accuracy: 0.9150 - val_loss: 0.2385 - val_categorical_accuracy: 0.9209\n",
      "Epoch 11/25\n",
      "150/150 [==============================] - 180s 1s/step - loss: 0.2707 - categorical_accuracy: 0.9165 - val_loss: 0.2006 - val_categorical_accuracy: 0.9375\n",
      "Epoch 12/25\n",
      "150/150 [==============================] - 178s 1s/step - loss: 0.2636 - categorical_accuracy: 0.9140 - val_loss: 0.2060 - val_categorical_accuracy: 0.9331\n",
      "Epoch 13/25\n",
      "150/150 [==============================] - 181s 1s/step - loss: 0.2314 - categorical_accuracy: 0.9273 - val_loss: 0.1876 - val_categorical_accuracy: 0.9419\n",
      "Epoch 14/25\n",
      "150/150 [==============================] - 178s 1s/step - loss: 0.2569 - categorical_accuracy: 0.9194 - val_loss: 0.1890 - val_categorical_accuracy: 0.9400\n",
      "Epoch 15/25\n",
      "150/150 [==============================] - 177s 1s/step - loss: 0.2401 - categorical_accuracy: 0.9219 - val_loss: 0.1846 - val_categorical_accuracy: 0.9381\n",
      "Epoch 16/25\n",
      "150/150 [==============================] - 178s 1s/step - loss: 0.2413 - categorical_accuracy: 0.9240 - val_loss: 0.1821 - val_categorical_accuracy: 0.9400\n",
      "Epoch 17/25\n",
      "150/150 [==============================] - 179s 1s/step - loss: 0.2429 - categorical_accuracy: 0.9185 - val_loss: 0.1525 - val_categorical_accuracy: 0.9497\n",
      "Epoch 18/25\n",
      "150/150 [==============================] - 181s 1s/step - loss: 0.2287 - categorical_accuracy: 0.9267 - val_loss: 0.1746 - val_categorical_accuracy: 0.9416\n",
      "Epoch 19/25\n",
      "150/150 [==============================] - 184s 1s/step - loss: 0.2172 - categorical_accuracy: 0.9308 - val_loss: 0.1651 - val_categorical_accuracy: 0.9466\n",
      "Epoch 20/25\n",
      "150/150 [==============================] - 182s 1s/step - loss: 0.2333 - categorical_accuracy: 0.9221 - val_loss: 0.1507 - val_categorical_accuracy: 0.9513\n",
      "Epoch 21/25\n",
      "150/150 [==============================] - 179s 1s/step - loss: 0.2029 - categorical_accuracy: 0.9329 - val_loss: 0.1655 - val_categorical_accuracy: 0.9456\n",
      "Epoch 22/25\n",
      "150/150 [==============================] - 176s 1s/step - loss: 0.2230 - categorical_accuracy: 0.9231 - val_loss: 0.1425 - val_categorical_accuracy: 0.9500\n",
      "Epoch 23/25\n",
      "150/150 [==============================] - 180s 1s/step - loss: 0.2030 - categorical_accuracy: 0.9298 - val_loss: 0.1502 - val_categorical_accuracy: 0.9472\n",
      "Epoch 24/25\n",
      "150/150 [==============================] - 191s 1s/step - loss: 0.2241 - categorical_accuracy: 0.9215 - val_loss: 0.1429 - val_categorical_accuracy: 0.9559\n",
      "Epoch 25/25\n",
      "150/150 [==============================] - 182s 1s/step - loss: 0.2105 - categorical_accuracy: 0.9328 - val_loss: 0.1597 - val_categorical_accuracy: 0.9472\n"
     ]
    }
   ],
   "source": [
    "history = model.fit_generator(train_data,\n",
    "          validation_data=test_data,\n",
    "          epochs=25,\n",
    "          steps_per_epoch=150,\n",
    "          validation_steps=100\n",
    "         )"
   ]
  },
  {
   "cell_type": "code",
   "execution_count": 13,
   "metadata": {},
   "outputs": [
    {
     "name": "stdout",
     "output_type": "stream",
     "text": [
      "550/550 [==============================] - 354s 643ms/step - loss: 0.1552 - categorical_accuracy: 0.9479\n"
     ]
    },
    {
     "data": {
      "text/plain": [
       "[0.15516316890716553, 0.9478716254234314]"
      ]
     },
     "execution_count": 13,
     "metadata": {},
     "output_type": "execute_result"
    }
   ],
   "source": [
    "model.evaluate(test_data)"
   ]
  },
  {
   "cell_type": "code",
   "execution_count": 14,
   "metadata": {},
   "outputs": [],
   "source": [
    "model.save('ldd.h5')"
   ]
  },
  {
   "cell_type": "code",
   "execution_count": 15,
   "metadata": {},
   "outputs": [
    {
     "data": {
      "text/plain": [
       "<matplotlib.legend.Legend at 0x165a268dfd0>"
      ]
     },
     "execution_count": 15,
     "metadata": {},
     "output_type": "execute_result"
    },
    {
     "data": {
      "image/png": "[encoded data removed]",
      "text/plain": [
       "<Figure size 720x432 with 1 Axes>"
      ]
     },
     "metadata": {
      "needs_background": "light"
     },
     "output_type": "display_data"
    }
   ],
   "source": [
    "loss = history.history['loss']\n",
    "val_loss = history.history['val_loss']\n",
    "\n",
    "epochs = range(len(loss))\n",
    "\n",
    "fig = plt.figure(figsize=(10,6))\n",
    "plt.plot(epochs,loss,c=\"red\",label=\"Training\")\n",
    "plt.plot(epochs,val_loss,c=\"blue\",label=\"Validation\")\n",
    "plt.xlabel(\"Epochs\")\n",
    "plt.ylabel(\"Loss\")\n",
    "plt.legend()"
   ]
  },
  {
   "cell_type": "code",
   "execution_count": 16,
   "metadata": {},
   "outputs": [
    {
     "data": {
      "text/plain": [
       "<matplotlib.legend.Legend at 0x165a270aa90>"
      ]
     },
     "execution_count": 16,
     "metadata": {},
     "output_type": "execute_result"
    },
    {
     "data": {
      "image/png": "[encoded data removed]",
      "text/plain": [
       "<Figure size 720x432 with 1 Axes>"
      ]
     },
     "metadata": {
      "needs_background": "light"
     },
     "output_type": "display_data"
    }
   ],
   "source": [
    "acc = history.history['categorical_accuracy']\n",
    "val_acc = history.history['val_categorical_accuracy']\n",
    "\n",
    "epochs = range(len(acc))\n",
    "\n",
    "fig = plt.figure(figsize=(10,6))\n",
    "plt.plot(epochs,acc,c=\"red\",label=\"Training\")\n",
    "plt.plot(epochs,val_acc,c=\"blue\",label=\"Validation\")\n",
    "plt.xlabel(\"Epochs\")\n",
    "plt.ylabel(\"Accuracy\")\n",
    "plt.legend()"
   ]
  },
  {
   "cell_type": "code",
   "execution_count": null,
   "metadata": {},
   "outputs": [],
   "source": []
  },
  {
   "cell_type": "code",
   "execution_count": null,
   "metadata": {},
   "outputs": [],
   "source": []
  }
 ],
 "metadata": {
  "kernelspec": {
   "display_name": "Python 3",
   "language": "python",
   "name": "python3"
  },
  "language_info": {
   "codemirror_mode": {
    "name": "ipython",
    "version": 3
   },
   "file_extension": ".py",
   "mimetype": "text/x-python",
   "name": "python",
   "nbconvert_exporter": "python",
   "pygments_lexer": "ipython3",
   "version": "3.8.3"
  }
 },
 "nbformat": 4,
 "nbformat_minor": 4
}
